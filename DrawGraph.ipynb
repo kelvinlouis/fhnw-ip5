{
 "cells": [
  {
   "cell_type": "code",
   "execution_count": null,
   "metadata": {},
   "outputs": [],
   "source": [
    "import networkx as nx\n",
    "import matplotlib.pyplot as plt"
   ]
  },
  {
   "cell_type": "code",
   "execution_count": null,
   "metadata": {},
   "outputs": [],
   "source": [
    "# Maps string to networkx graph layout\n",
    "graph_layout_map = {\n",
    "    'circular': nx.circular_layout,\n",
    "    'spring': nx.spring_layout\n",
    "}"
   ]
  },
  {
   "cell_type": "code",
   "execution_count": null,
   "metadata": {},
   "outputs": [],
   "source": [
    "def draw_nodes(G, pos, size='in_degree_weaken',\n",
    "               color='influence', alpha=1):\n",
    "    colors = []\n",
    "    size_default = 150\n",
    "    \n",
    "    if color == 'influence':\n",
    "        # Colors nodes based on their influence\n",
    "        d = nx.get_node_attributes(G, 'influence')\n",
    "        colors = map(lambda i: 'r' if i == -1 else 'g', list(d.values()))\n",
    "        colors = list(colors)\n",
    "    else:\n",
    "        colors = 'blue'\n",
    "    \n",
    "    if isinstance(size, str):\n",
    "        tupels = []\n",
    "        \n",
    "        if size == 'degree':\n",
    "            tupels = G.degree()\n",
    "        elif size == 'degree_weighted':\n",
    "            tupels = G.degree(weight='weight')\n",
    "        elif size == 'in_degree':\n",
    "            tupels = G.in_degree()\n",
    "        elif size == 'in_degree_weighted':\n",
    "            tupels = G.in_degree(weight='weight')\n",
    "        elif size == 'in_degree_absolute':\n",
    "            tupels = G.in_degree(weight='weight_absolute')\n",
    "        elif size == 'in_degree_strenghten':\n",
    "            tupels = G.in_degree(weight='strengthen')\n",
    "        elif size == 'in_degree_weaken':\n",
    "            tupels = G.in_degree(weight='weaken')\n",
    "        elif size == 'out_degree':\n",
    "            tupels = G.out_degree()\n",
    "        elif size == 'out_degree_weighted':\n",
    "            tupels = G.out_degree(weight='weight')\n",
    "        elif size == 'out_degree_absolute':\n",
    "            tupels = G.out_degree(weight='weight_absolute')\n",
    "        elif size == 'out_degree_strengthen':\n",
    "            tupels = G.out_degree(weight='strengthen')\n",
    "        elif size == 'out_degree_weaken':\n",
    "            tupels = G.out_degree(weight='weaken')\n",
    "        \n",
    "        size = [size_default*2**t[1] for t in tupels]\n",
    "    else:\n",
    "        size=size_default\n",
    "    \n",
    "    nx.draw_networkx_nodes(G,\n",
    "                           pos,\n",
    "                           node_color=colors,\n",
    "                           node_size=size,\n",
    "                           alpha=alpha)"
   ]
  },
  {
   "cell_type": "code",
   "execution_count": null,
   "metadata": {},
   "outputs": [],
   "source": [
    "def draw_edges(G, pos, width=6,\n",
    "               alpha=1, color='b', style='dashed'):\n",
    "    nx.draw_networkx_edges(G,\n",
    "                           pos,\n",
    "                           width=width,\n",
    "                           alpha=alpha,\n",
    "                           edge_color=color,\n",
    "                           style=style)"
   ]
  },
  {
   "cell_type": "code",
   "execution_count": null,
   "metadata": {},
   "outputs": [],
   "source": [
    "def draw_labels(G, pos, size=10, font_family='sans-serif'):\n",
    "    labels = nx.get_node_attributes(G, 'label')\n",
    "    nx.draw_networkx_labels(G,\n",
    "                            pos,\n",
    "                            labels=labels,\n",
    "                            font_size=size,\n",
    "                            font_family=font_family)"
   ]
  },
  {
   "cell_type": "code",
   "execution_count": null,
   "metadata": {},
   "outputs": [],
   "source": [
    "def draw_graph(G, layout='circular'):\n",
    "    # Layout the graph\n",
    "    layout_fn = graph_layout_map[layout]\n",
    "    pos = layout_fn(G)\n",
    "    \n",
    "    draw_nodes(G, pos)\n",
    "    draw_edges(G, pos, width=1)\n",
    "    draw_labels(G, pos)\n",
    "    \n",
    "    plt.axis('off')\n",
    "    plt.show()"
   ]
  },
  {
   "cell_type": "code",
   "execution_count": null,
   "metadata": {},
   "outputs": [],
   "source": [
    "import import_ipynb\n",
    "\n",
    "from Json2Graph import json_to_graph\n",
    "\n",
    "G = json_to_graph('data/dataset_20180403/180331_Herbert_Heim.json')\n",
    "draw_graph(G)"
   ]
  },
  {
   "cell_type": "code",
   "execution_count": null,
   "metadata": {},
   "outputs": [],
   "source": []
  },
  {
   "cell_type": "code",
   "execution_count": null,
   "metadata": {},
   "outputs": [],
   "source": []
  }
 ],
 "metadata": {
  "kernelspec": {
   "display_name": "Python 3",
   "language": "python",
   "name": "python3"
  },
  "language_info": {
   "codemirror_mode": {
    "name": "ipython",
    "version": 3
   },
   "file_extension": ".py",
   "mimetype": "text/x-python",
   "name": "python",
   "nbconvert_exporter": "python",
   "pygments_lexer": "ipython3",
   "version": "3.6.4"
  }
 },
 "nbformat": 4,
 "nbformat_minor": 2
}
