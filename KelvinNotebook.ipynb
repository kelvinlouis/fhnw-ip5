{
 "cells": [
  {
   "cell_type": "code",
   "execution_count": 1,
   "metadata": {},
   "outputs": [
    {
     "name": "stdout",
     "output_type": "stream",
     "text": [
      "importing Jupyter notebook from Json2Graph.ipynb\n"
     ]
    }
   ],
   "source": [
    "import import_ipynb\n",
    "from Json2Graph import draw_file_picker"
   ]
  },
  {
   "cell_type": "code",
   "execution_count": 6,
   "metadata": {},
   "outputs": [
    {
     "data": {
      "application/vnd.jupyter.widget-view+json": {
       "model_id": "421ce4b4ae8f48e9a3454d8aed3a3fa6",
       "version_major": 2,
       "version_minor": 0
      },
      "text/html": [
       "<p>Failed to display Jupyter Widget of type <code>Dropdown</code>.</p>\n",
       "<p>\n",
       "  If you're reading this message in the Jupyter Notebook or JupyterLab Notebook, it may mean\n",
       "  that the widgets JavaScript is still loading. If this message persists, it\n",
       "  likely means that the widgets JavaScript library is either not installed or\n",
       "  not enabled. See the <a href=\"https://ipywidgets.readthedocs.io/en/stable/user_install.html\">Jupyter\n",
       "  Widgets Documentation</a> for setup instructions.\n",
       "</p>\n",
       "<p>\n",
       "  If you're reading this message in another frontend (for example, a static\n",
       "  rendering on GitHub or <a href=\"https://nbviewer.jupyter.org/\">NBViewer</a>),\n",
       "  it may mean that your frontend doesn't currently support widgets.\n",
       "</p>\n"
      ],
      "text/plain": [
       "Dropdown(description='File:', layout=Layout(width='100%'), options={'180331_Bud Spencer_Familiensystem.json': 'data/dataset_20180403/180331_Bud Spencer_Familiensystem.json', '180331_Herbert_Heim.json': 'data/dataset_20180403/180331_Herbert_Heim.json', '180331_Melanie_Oberstufe_Lehre.json': 'data/dataset_20180403/180331_Melanie_Oberstufe_Lehre.json', '180331_Otto_Familiensystem.json': 'data/dataset_20180403/180331_Otto_Familiensystem.json', '180331_Regina_Familiensystem.json': 'data/dataset_20180403/180331_Regina_Familiensystem.json', '180331_Swiss Webster_Familiensystem.json': 'data/dataset_20180403/180331_Swiss Webster_Familiensystem.json', '180401_Ahbleza_Familiensystem.json': 'data/dataset_20180403/180401_Ahbleza_Familiensystem.json', '180401_Charly_Familiensystem.json': 'data/dataset_20180403/180401_Charly_Familiensystem.json', '180401_Maria_innerer Kern.json': 'data/dataset_20180403/180401_Maria_innerer Kern.json', '180401_Naiko_Familiensystem.json': 'data/dataset_20180403/180401_Naiko_Familiensystem.json', '180401_RobinHood_Familiensystem.json': 'data/dataset_20180403/180401_RobinHood_Familiensystem.json', '180401_Silvia_Schul-Ausbildungssystem.json': 'data/dataset_20180403/180401_Silvia_Schul-Ausbildungssystem.json', '180402_Alex_Familiensystem.json': 'data/dataset_20180403/180402_Alex_Familiensystem.json', '180402_Franz_Arbeitssystem.json': 'data/dataset_20180403/180402_Franz_Arbeitssystem.json', '180402_Lukas_Herkunfts-_Pflegefamilie_Schule.json': 'data/dataset_20180403/180402_Lukas_Herkunfts-_Pflegefamilie_Schule.json', '180402_Lukas_Herkunftsfamilie.json': 'data/dataset_20180403/180402_Lukas_Herkunftsfamilie.json', '180402_Sam_Hilfesystem.json': 'data/dataset_20180403/180402_Sam_Hilfesystem.json', '180402_Shakira_Familiensystem.json': 'data/dataset_20180403/180402_Shakira_Familiensystem.json', '180402_Stefan_Familiensystem.json': 'data/dataset_20180403/180402_Stefan_Familiensystem.json', '180402_Wakeup_Familiensystem.json': 'data/dataset_20180403/180402_Wakeup_Familiensystem.json'}, value='data/dataset_20180403/180331_Bud Spencer_Familiensystem.json')"
      ]
     },
     "metadata": {},
     "output_type": "display_data"
    }
   ],
   "source": [
    "draw_file_picker(data_path='data/dataset_20180403/', output_file=\"build/graph_data/kelvin-test.json\")"
   ]
  },
  {
   "cell_type": "code",
   "execution_count": 5,
   "metadata": {},
   "outputs": [
    {
     "data": {
      "text/html": [
       "<iframe width=\"100%\" height=\"600\" src=\"./build/index.html?file=kelvin-test.json\" frameborder=\"0\" allowfullscreen></iframe>"
      ],
      "text/plain": [
       "<IPython.core.display.HTML object>"
      ]
     },
     "execution_count": 5,
     "metadata": {},
     "output_type": "execute_result"
    }
   ],
   "source": [
    "from IPython.display import HTML\n",
    "HTML('<iframe width=\"100%\" height=\"600\" src=\"./build/index.html?file=kelvin-test.json\" frameborder=\"0\" allowfullscreen></iframe>')"
   ]
  },
  {
   "cell_type": "code",
   "execution_count": null,
   "metadata": {},
   "outputs": [],
   "source": []
  }
 ],
 "metadata": {
  "kernelspec": {
   "display_name": "Python 3",
   "language": "python",
   "name": "python3"
  },
  "language_info": {
   "codemirror_mode": {
    "name": "ipython",
    "version": 3
   },
   "file_extension": ".py",
   "mimetype": "text/x-python",
   "name": "python",
   "nbconvert_exporter": "python",
   "pygments_lexer": "ipython3",
   "version": "3.6.4"
  }
 },
 "nbformat": 4,
 "nbformat_minor": 2
}
