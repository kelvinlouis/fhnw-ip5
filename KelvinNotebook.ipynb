{
 "cells": [
  {
   "cell_type": "code",
   "execution_count": null,
   "metadata": {},
   "outputs": [],
   "source": [
    "import networkx as nx\n",
    "import import_ipynb\n",
    "import matplotlib.pyplot as plt\n",
    "\n",
    "from Json2Graph import json_to_graph"
   ]
  },
  {
   "cell_type": "code",
   "execution_count": null,
   "metadata": {},
   "outputs": [],
   "source": [
    "graph_layout_map = {\n",
    "    'circular': nx.circular_layout,\n",
    "    'spring': nx.spring_layout\n",
    "}"
   ]
  },
  {
   "cell_type": "code",
   "execution_count": null,
   "metadata": {},
   "outputs": [],
   "source": [
    "def draw_nodes(G, pos, size=500,\n",
    "               color='r', alpha=1):\n",
    "    nx.draw_networkx_nodes(G,\n",
    "                           pos,\n",
    "                           node_color=color,\n",
    "                           node_size=size,\n",
    "                           alpha=alpha)"
   ]
  },
  {
   "cell_type": "code",
   "execution_count": null,
   "metadata": {},
   "outputs": [],
   "source": [
    "def draw_edges(G, pos, width=6,\n",
    "               alpha=1, color='b', style='dashed'):\n",
    "    nx.draw_networkx_edges(G,\n",
    "                           pos,\n",
    "                           width=width,\n",
    "                           alpha=alpha,\n",
    "                           edge_color=color,\n",
    "                           style=style)"
   ]
  },
  {
   "cell_type": "code",
   "execution_count": null,
   "metadata": {},
   "outputs": [],
   "source": [
    "def draw_labels(G, pos, size=10, font_family='sans-serif'):\n",
    "    labels = nx.get_node_attributes(G, 'name')\n",
    "    nx.draw_networkx_labels(G,\n",
    "                            pos,\n",
    "                            labels=labels,\n",
    "                            font_size=size,\n",
    "                            font_family=font_family)"
   ]
  },
  {
   "cell_type": "code",
   "execution_count": null,
   "metadata": {},
   "outputs": [],
   "source": [
    "def draw_graph(G, layout='circular'):\n",
    "    # Layout the graph\n",
    "    layout_fn = graph_layout_map[layout]\n",
    "    pos = layout_fn(G)\n",
    "    \n",
    "    draw_nodes(G, pos)\n",
    "    draw_edges(G, pos, width=1)\n",
    "    draw_labels(G, pos)\n",
    "    \n",
    "    plt.axis('off')\n",
    "    plt.show()"
   ]
  },
  {
   "cell_type": "code",
   "execution_count": null,
   "metadata": {},
   "outputs": [],
   "source": [
    "G = json_to_graph('data/dataset_20180403/180331_Herbert_Heim.json')\n",
    "draw_graph(G)\n",
    "\n"
   ]
  },
  {
   "cell_type": "code",
   "execution_count": null,
   "metadata": {},
   "outputs": [],
   "source": []
  }
 ],
 "metadata": {
  "kernelspec": {
   "display_name": "Python 3",
   "language": "python",
   "name": "python3"
  },
  "language_info": {
   "codemirror_mode": {
    "name": "ipython",
    "version": 3
   },
   "file_extension": ".py",
   "mimetype": "text/x-python",
   "name": "python",
   "nbconvert_exporter": "python",
   "pygments_lexer": "ipython3",
   "version": "3.6.4"
  }
 },
 "nbformat": 4,
 "nbformat_minor": 2
}
