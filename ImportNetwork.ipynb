{
 "cells": [
  {
   "cell_type": "code",
   "execution_count": 19,
   "metadata": {},
   "outputs": [],
   "source": [
    "import pandas as pd\n",
    "import numpy as np\n",
    "import networkx as nx\n",
    "from networkx.algorithms import community\n",
    "%matplotlib inline"
   ]
  },
  {
   "cell_type": "code",
   "execution_count": 27,
   "metadata": {},
   "outputs": [
    {
     "name": "stdout",
     "output_type": "stream",
     "text": [
      "{'actionSystems': [{'id': '77fa1ee6-8811-373d-703c-d86ecec96b1a',\n",
      "                    'name': 'Heim'}],\n",
      " 'connections': [['0', '++', '0', '0', '++', '0', '0', '0'],\n",
      "                 ['0', '0', '--', '0', '+', '0', '0', '0'],\n",
      "                 ['0', '0', '0', '--', '0', '0', '0', '0'],\n",
      "                 ['0', '0', '0', '0', '0', '0', '0', '++'],\n",
      "                 ['0', '0', '-', '0', '0', '0', '0', '0'],\n",
      "                 ['0', '0', '0', '0', '0', '0', '--', '0'],\n",
      "                 ['0', '0', '0', '0', '0', '0', '0', '++'],\n",
      "                 ['0', '++', '0', '0', '0', '0', '0', '0']],\n",
      " 'lifeEntries': [{'actionSystemId': '77fa1ee6-8811-373d-703c-d86ecec96b1a',\n",
      "                  'id': '4d9c72ee-a9de-4ac3-6019-f20ac043554a',\n",
      "                  'influence': -1,\n",
      "                  'title': 'hyperaktiv, unkonzentriert'},\n",
      "                 {'actionSystemId': '77fa1ee6-8811-373d-703c-d86ecec96b1a',\n",
      "                  'id': '0922f384-a79f-4c69-ea26-dea557173f0d',\n",
      "                  'influence': -1,\n",
      "                  'title': 'Codierung als \"schwieriges Kind\" / Ausschluss'},\n",
      "                 {'actionSystemId': '77fa1ee6-8811-373d-703c-d86ecec96b1a',\n",
      "                  'id': '110d1354-24c8-d4d0-8203-ab5a1547656a',\n",
      "                  'influence': 1,\n",
      "                  'title': 'Selbstwert'},\n",
      "                 {'actionSystemId': '77fa1ee6-8811-373d-703c-d86ecec96b1a',\n",
      "                  'id': '7a75a69a-70c0-9888-0bdf-15fd93afc12f',\n",
      "                  'influence': -1,\n",
      "                  'title': 'Versagensangst'},\n",
      "                 {'actionSystemId': '77fa1ee6-8811-373d-703c-d86ecec96b1a',\n",
      "                  'id': 'cbf297d0-1a64-6b66-39de-6062596a5021',\n",
      "                  'influence': -1,\n",
      "                  'title': 'Abwertung'},\n",
      "                 {'actionSystemId': '77fa1ee6-8811-373d-703c-d86ecec96b1a',\n",
      "                  'id': 'a9c77ea6-b6f2-8412-c513-633160624ff7',\n",
      "                  'influence': 1,\n",
      "                  'title': 'Selbstwirksamkeit'},\n",
      "                 {'actionSystemId': '77fa1ee6-8811-373d-703c-d86ecec96b1a',\n",
      "                  'id': '814a501e-a68a-e5cc-2dcd-87824cea4998',\n",
      "                  'influence': -1,\n",
      "                  'title': 'Ohnmacht'},\n",
      "                 {'actionSystemId': '77fa1ee6-8811-373d-703c-d86ecec96b1a',\n",
      "                  'id': 'deba889a-1b26-09bc-6786-6612f89108dd',\n",
      "                  'influence': -1,\n",
      "                  'title': 'passive Verweigerung'}],\n",
      " 'name': 'Herbert'}\n"
     ]
    }
   ],
   "source": [
    "import json\n",
    "from pprint import pprint\n",
    "\n",
    "with open('data/dataset_20180403/180331_Herbert_Heim.json', encoding='utf-8') as data_file:\n",
    "    data = json.load(data_file)\n",
    "pprint(data)"
   ]
  },
  {
   "cell_type": "code",
   "execution_count": 28,
   "metadata": {
    "scrolled": false
   },
   "outputs": [
    {
     "name": "stdout",
     "output_type": "stream",
     "text": [
      "[[ 0  2  0  0  2  0  0  0]\n",
      " [ 0  0 -2  0  1  0  0  0]\n",
      " [ 0  0  0 -2  0  0  0  0]\n",
      " [ 0  0  0  0  0  0  0  2]\n",
      " [ 0  0 -1  0  0  0  0  0]\n",
      " [ 0  0  0  0  0  0 -2  0]\n",
      " [ 0  0  0  0  0  0  0  2]\n",
      " [ 0  2  0  0  0  0  0  0]]\n"
     ]
    }
   ],
   "source": [
    "df = pd.DataFrame(data['connections'])\n",
    "df = df.replace('0', 0)\n",
    "df = df.replace('+', 1)\n",
    "df = df.replace('++', 2)\n",
    "df = df.replace('-', -1)\n",
    "df = df.replace('--', -2)\n",
    "am = np.array(df)\n",
    "am.astype(int)\n",
    "print(am)"
   ]
  },
  {
   "cell_type": "code",
   "execution_count": 29,
   "metadata": {},
   "outputs": [],
   "source": [
    "actionSystems = {}\n",
    "for i, actionSystem in enumerate(data['actionSystems']):\n",
    "    actionSystems[actionSystem['id']] = actionSystem['name']"
   ]
  },
  {
   "cell_type": "code",
   "execution_count": 30,
   "metadata": {},
   "outputs": [],
   "source": [
    "names = {}\n",
    "nodeActionSystems = {}\n",
    "influence = {}\n",
    "for i, lifeEntry in enumerate(data['lifeEntries']):\n",
    "    names[i] = lifeEntry['title']\n",
    "    nodeActionSystems[i] = actionSystems[lifeEntry['actionSystemId']]\n",
    "    influence[i] = lifeEntry['influence']"
   ]
  },
  {
   "cell_type": "code",
   "execution_count": 45,
   "metadata": {},
   "outputs": [],
   "source": [
    "temp = nx.MultiDiGraph()\n",
    "G = nx.from_numpy_matrix(am, parallel_edges=False, create_using=temp)"
   ]
  },
  {
   "cell_type": "code",
   "execution_count": 46,
   "metadata": {},
   "outputs": [],
   "source": [
    "nx.set_node_attributes(G, names, name='name')\n",
    "nx.set_node_attributes(G, nodeActionSystems, name='actionSystem')\n",
    "nx.set_node_attributes(G, influence, name='influence')"
   ]
  },
  {
   "cell_type": "code",
   "execution_count": 62,
   "metadata": {},
   "outputs": [
    {
     "name": "stdout",
     "output_type": "stream",
     "text": [
      "Weighted Degree:\n",
      "[(0, 4), (1, 3), (2, -5), (3, 0), (4, 2), (5, -2), (6, 0), (7, 6)]\n",
      "Degree:\n",
      "[(0, 2), (1, 4), (2, 3), (3, 2), (4, 3), (5, 1), (6, 2), (7, 3)]\n",
      "Weighted In-Degree:\n",
      "[(0, 0), (1, 4), (2, -3), (3, -2), (4, 3), (5, 0), (6, -2), (7, 4)]\n",
      "In-Degree:\n",
      "[(0, 0), (1, 2), (2, 2), (3, 1), (4, 2), (5, 0), (6, 1), (7, 2)]\n",
      "Weighted Out-Degree:\n",
      "[(0, 4), (1, -1), (2, -2), (3, 2), (4, -1), (5, -2), (6, 2), (7, 2)]\n",
      "Out-Degree:\n",
      "[(0, 2), (1, 2), (2, 1), (3, 1), (4, 1), (5, 1), (6, 1), (7, 1)]\n"
     ]
    }
   ],
   "source": [
    "print('Weighted Degree:')\n",
    "print(G.degree(weight='weight'))\n",
    "print('Degree:')\n",
    "print(G.degree())\n",
    "print('Weighted In-Degree:')\n",
    "print(G.in_degree(weight='weight'))\n",
    "print('In-Degree:')\n",
    "print(G.in_degree())\n",
    "print('Weighted Out-Degree:')\n",
    "print(G.out_degree(weight='weight'))\n",
    "print('Out-Degree:')\n",
    "print(G.out_degree(G))"
   ]
  },
  {
   "cell_type": "code",
   "execution_count": 67,
   "metadata": {},
   "outputs": [
    {
     "name": "stdout",
     "output_type": "stream",
     "text": [
      "{(0, 1, 0): 2, (0, 4, 0): 2, (1, 2, 0): -2, (1, 4, 0): 1, (2, 3, 0): -2, (3, 7, 0): 2, (4, 2, 0): -1, (5, 6, 0): -2, (6, 7, 0): 2, (7, 1, 0): 2}\n"
     ]
    },
    {
     "ename": "ValueError",
     "evalue": "too many values to unpack (expected 2)",
     "output_type": "error",
     "traceback": [
      "\u001b[1;31m---------------------------------------------------------------------------\u001b[0m",
      "\u001b[1;31mValueError\u001b[0m                                Traceback (most recent call last)",
      "\u001b[1;32m<ipython-input-67-6a4372b1adf4>\u001b[0m in \u001b[0;36m<module>\u001b[1;34m()\u001b[0m\n\u001b[0;32m      3\u001b[0m \u001b[0medgelabels\u001b[0m \u001b[1;33m=\u001b[0m \u001b[0mnx\u001b[0m\u001b[1;33m.\u001b[0m\u001b[0mget_edge_attributes\u001b[0m\u001b[1;33m(\u001b[0m\u001b[0mG\u001b[0m\u001b[1;33m,\u001b[0m \u001b[1;34m'weight'\u001b[0m\u001b[1;33m)\u001b[0m\u001b[1;33m\u001b[0m\u001b[0m\n\u001b[0;32m      4\u001b[0m \u001b[0mprint\u001b[0m\u001b[1;33m(\u001b[0m\u001b[0medgelabels\u001b[0m\u001b[1;33m)\u001b[0m\u001b[1;33m\u001b[0m\u001b[0m\n\u001b[1;32m----> 5\u001b[1;33m \u001b[0mnx\u001b[0m\u001b[1;33m.\u001b[0m\u001b[0mdraw_networkx_edge_labels\u001b[0m\u001b[1;33m(\u001b[0m\u001b[0mG\u001b[0m\u001b[1;33m,\u001b[0m \u001b[0mpos\u001b[0m\u001b[1;33m,\u001b[0m \u001b[0medge_labels\u001b[0m\u001b[1;33m=\u001b[0m\u001b[0medgelabels\u001b[0m\u001b[1;33m)\u001b[0m\u001b[1;33m\u001b[0m\u001b[0m\n\u001b[0m\u001b[0;32m      6\u001b[0m \u001b[0mnx\u001b[0m\u001b[1;33m.\u001b[0m\u001b[0mdraw_networkx_labels\u001b[0m\u001b[1;33m(\u001b[0m\u001b[0mG\u001b[0m\u001b[1;33m,\u001b[0m \u001b[0mpos\u001b[0m\u001b[1;33m,\u001b[0m \u001b[0malpha\u001b[0m\u001b[1;33m=\u001b[0m\u001b[1;36m.8\u001b[0m\u001b[1;33m)\u001b[0m\u001b[1;33m\u001b[0m\u001b[0m\n",
      "\u001b[1;32mC:\\ProgramData\\Anaconda3\\lib\\site-packages\\networkx\\drawing\\nx_pylab.py\u001b[0m in \u001b[0;36mdraw_networkx_edge_labels\u001b[1;34m(G, pos, edge_labels, label_pos, font_size, font_color, font_family, font_weight, alpha, bbox, ax, rotate, **kwds)\u001b[0m\n\u001b[0;32m    903\u001b[0m         \u001b[0mlabels\u001b[0m \u001b[1;33m=\u001b[0m \u001b[0medge_labels\u001b[0m\u001b[1;33m\u001b[0m\u001b[0m\n\u001b[0;32m    904\u001b[0m     \u001b[0mtext_items\u001b[0m \u001b[1;33m=\u001b[0m \u001b[1;33m{\u001b[0m\u001b[1;33m}\u001b[0m\u001b[1;33m\u001b[0m\u001b[0m\n\u001b[1;32m--> 905\u001b[1;33m     \u001b[1;32mfor\u001b[0m \u001b[1;33m(\u001b[0m\u001b[0mn1\u001b[0m\u001b[1;33m,\u001b[0m \u001b[0mn2\u001b[0m\u001b[1;33m)\u001b[0m\u001b[1;33m,\u001b[0m \u001b[0mlabel\u001b[0m \u001b[1;32min\u001b[0m \u001b[0mlabels\u001b[0m\u001b[1;33m.\u001b[0m\u001b[0mitems\u001b[0m\u001b[1;33m(\u001b[0m\u001b[1;33m)\u001b[0m\u001b[1;33m:\u001b[0m\u001b[1;33m\u001b[0m\u001b[0m\n\u001b[0m\u001b[0;32m    906\u001b[0m         \u001b[1;33m(\u001b[0m\u001b[0mx1\u001b[0m\u001b[1;33m,\u001b[0m \u001b[0my1\u001b[0m\u001b[1;33m)\u001b[0m \u001b[1;33m=\u001b[0m \u001b[0mpos\u001b[0m\u001b[1;33m[\u001b[0m\u001b[0mn1\u001b[0m\u001b[1;33m]\u001b[0m\u001b[1;33m\u001b[0m\u001b[0m\n\u001b[0;32m    907\u001b[0m         \u001b[1;33m(\u001b[0m\u001b[0mx2\u001b[0m\u001b[1;33m,\u001b[0m \u001b[0my2\u001b[0m\u001b[1;33m)\u001b[0m \u001b[1;33m=\u001b[0m \u001b[0mpos\u001b[0m\u001b[1;33m[\u001b[0m\u001b[0mn2\u001b[0m\u001b[1;33m]\u001b[0m\u001b[1;33m\u001b[0m\u001b[0m\n",
      "\u001b[1;31mValueError\u001b[0m: too many values to unpack (expected 2)"
     ]
    },
    {
     "data": {
      "image/png": "[encoded data removed]",
      "text/plain": [
       "<Figure size 432x288 with 1 Axes>"
      ]
     },
     "metadata": {},
     "output_type": "display_data"
    }
   ],
   "source": [
    "pos = nx.circular_layout(G)\n",
    "nx.draw(G, pos, font_size=12, with_labels=False)\n",
    "edgelabels = nx.get_edge_attributes(G, 'weight')\n",
    "print(edgelabels)\n",
    "nx.draw_networkx_edge_labels(G, pos, edge_labels=edgelabels)\n",
    "nx.draw_networkx_labels(G, pos, alpha=.8)"
   ]
  },
  {
   "cell_type": "code",
   "execution_count": null,
   "metadata": {},
   "outputs": [],
   "source": []
  }
 ],
 "metadata": {
  "kernelspec": {
   "display_name": "Python 3",
   "language": "python",
   "name": "python3"
  },
  "language_info": {
   "codemirror_mode": {
    "name": "ipython",
    "version": 3
   },
   "file_extension": ".py",
   "mimetype": "text/x-python",
   "name": "python",
   "nbconvert_exporter": "python",
   "pygments_lexer": "ipython3",
   "version": "3.6.5"
  }
 },
 "nbformat": 4,
 "nbformat_minor": 2
}
