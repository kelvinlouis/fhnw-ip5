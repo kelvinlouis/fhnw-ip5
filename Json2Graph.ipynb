{
 "cells": [
  {
   "cell_type": "code",
   "execution_count": null,
   "metadata": {},
   "outputs": [],
   "source": [
    "# Necessary Libraries\n",
    "import pandas as pd\n",
    "import numpy as np\n",
    "import networkx as nx\n",
    "import json\n",
    "from pprint import pprint"
   ]
  },
  {
   "cell_type": "code",
   "execution_count": null,
   "metadata": {},
   "outputs": [],
   "source": [
    "# Helper maps/dictionaries\n",
    "\n",
    "# Map from string to its numerical weight\n",
    "edge_weight_map = { '++': 2, '+': 1, '0': 0, '-': -1, '--': -2 }\n",
    "\n",
    "# Data type of edge in graph\n",
    "dt_edge = [('weight', int), ('weight_absolute', int), ('sign', int)]\n",
    "\n",
    "# Maps string to dt_edge tripple \n",
    "def edge_map(w):\n",
    "    w = edge_weight_map[w]\n",
    "    return (w, abs(w), np.sign(w))"
   ]
  },
  {
   "cell_type": "code",
   "execution_count": null,
   "metadata": {},
   "outputs": [],
   "source": [
    "# Extracts action systems from loaded data\n",
    "def get_action_systems(data):\n",
    "    entries = {}\n",
    "    \n",
    "    for i, entry in enumerate(data):\n",
    "        entries[entry['id']] = entry['name']\n",
    "    \n",
    "    return entries\n",
    "\n",
    "def get_life_entries(data, action_systems):\n",
    "    names = {}\n",
    "    node_action_systems = {}\n",
    "    influences = {}\n",
    "    \n",
    "    for i, entry in enumerate(data):\n",
    "        names[i] = entry['title']\n",
    "        node_action_systems[i] = action_systems[entry['actionSystemId']]\n",
    "        influences[i] = entry['influence']\n",
    "    \n",
    "    return names, node_action_systems, influences\n",
    "\n",
    "# Loads the json and creates a networkx multidi graph\n",
    "def json_to_graph(path, encoding='utf-8', verbose=False):\n",
    "    json_data = None\n",
    "    action_systems = {}\n",
    "    names = {}\n",
    "    node_action_systems = {}\n",
    "    influences = {}\n",
    "    \n",
    "    with open(path, encoding=encoding) as data_file:\n",
    "        json_data = json.load(data_file)\n",
    "    \n",
    "    # Print the loaded json data\n",
    "    if verbose == True:\n",
    "        ppriint(json_data)\n",
    "    \n",
    "    # Gets adjacency matrix and maps it to the dt_edge data type\n",
    "    df = pd.DataFrame(json_data['connections'])\n",
    "    df = df.applymap(edge_map)\n",
    "    am = np.array(df, dtype=dt_edge)\n",
    "    \n",
    "    if verbose == True:\n",
    "        # Print mapped adjacency matrix\n",
    "        print(am)\n",
    "    \n",
    "    # Get action systems\n",
    "    action_systems = get_action_systems(json_data['actionSystems'])\n",
    "    \n",
    "    # Get life entries\n",
    "    names, node_action_systems, influences = get_life_entries(json_data['lifeEntries'], action_systems)\n",
    "    \n",
    "    # Create graph by loading the adjacency matrix\n",
    "    G = nx.from_numpy_matrix(am, parallel_edges=False, create_using=nx.MultiDiGraph())\n",
    "    \n",
    "    # Set attributes on nodes\n",
    "    nx.set_node_attributes(G, names, name='name')\n",
    "    nx.set_node_attributes(G, node_action_systems, name='actionSystem')\n",
    "    nx.set_node_attributes(G, influences, name='influence')\n",
    "    \n",
    "    return G"
   ]
  }
 ],
 "metadata": {
  "kernelspec": {
   "display_name": "Python 3",
   "language": "python",
   "name": "python3"
  },
  "language_info": {
   "codemirror_mode": {
    "name": "ipython",
    "version": 3
   },
   "file_extension": ".py",
   "mimetype": "text/x-python",
   "name": "python",
   "nbconvert_exporter": "python",
   "pygments_lexer": "ipython3",
   "version": "3.6.4"
  }
 },
 "nbformat": 4,
 "nbformat_minor": 2
}
